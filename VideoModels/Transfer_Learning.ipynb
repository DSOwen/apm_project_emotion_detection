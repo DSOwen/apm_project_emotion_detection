{
  "nbformat": 4,
  "nbformat_minor": 0,
  "metadata": {
    "colab": {
      "name": "Transfer_Learning.ipynb",
      "provenance": []
    },
    "kernelspec": {
      "name": "python3",
      "display_name": "Python 3"
    }
  },
  "cells": [
    {
      "cell_type": "code",
      "metadata": {
        "id": "nvx8N-nAunDr",
        "colab_type": "code",
        "colab": {}
      },
      "source": [
        "from keras.layers import Dense, Dropout, Flatten, Input, ZeroPadding2D\n",
        "from keras.layers.convolutional import Conv2D\n",
        "from keras.layers.normalization import BatchNormalization\n",
        "from keras.layers.pooling import MaxPooling2D\n",
        "from keras import regularizers\n",
        "from keras.models import Model\n",
        "from keras import optimizers\n",
        "from matplotlib import pyplot as plt\n",
        "import numpy as np\n",
        "from PIL import Image\n",
        "from cv2 import cv2\n",
        "from google.colab import drive\n",
        "import pandas as pd \n",
        "import keras \n",
        "from keras.models import load_model\n",
        "import os\n",
        "from keras.layers import Dense, Dropout, Activation, Flatten, BatchNormalization\n",
        "from keras.models import Sequential\n",
        "from keras.optimizers import RMSprop, SGD, Adam\n",
        "import gc"
      ],
      "execution_count": 0,
      "outputs": []
    },
    {
      "cell_type": "code",
      "metadata": {
        "id": "wmg4zqhqNMwN",
        "colab_type": "code",
        "colab": {
          "base_uri": "https://localhost:8080/",
          "height": 118
        },
        "outputId": "d1fe76c3-c653-4962-d465-6155b4eb5601"
      },
      "source": [
        "drive.mount('/content/gdrive')\n",
        "root_path = 'gdrive/My Drive/APM'  "
      ],
      "execution_count": 2,
      "outputs": [
        {
          "output_type": "stream",
          "text": [
            "Go to this URL in a browser: https://accounts.google.com/o/oauth2/auth?client_id=947318989803-6bn6qk8qdgf4n4g3pfee6491hc0brc4i.apps.googleusercontent.com&redirect_uri=urn%3aietf%3awg%3aoauth%3a2.0%3aoob&response_type=code&scope=email%20https%3a%2f%2fwww.googleapis.com%2fauth%2fdocs.test%20https%3a%2f%2fwww.googleapis.com%2fauth%2fdrive%20https%3a%2f%2fwww.googleapis.com%2fauth%2fdrive.photos.readonly%20https%3a%2f%2fwww.googleapis.com%2fauth%2fpeopleapi.readonly\n",
            "\n",
            "Enter your authorization code:\n",
            "··········\n",
            "Mounted at /content/gdrive\n"
          ],
          "name": "stdout"
        }
      ]
    },
    {
      "cell_type": "code",
      "metadata": {
        "id": "ZtIgZHtYNeWE",
        "colab_type": "code",
        "colab": {
          "base_uri": "https://localhost:8080/",
          "height": 33
        },
        "outputId": "31177c03-e75f-4e82-f417-b0f657f207a3"
      },
      "source": [
        "cd /content/gdrive/My Drive/APM/model"
      ],
      "execution_count": 3,
      "outputs": [
        {
          "output_type": "stream",
          "text": [
            "/content/gdrive/My Drive/APM/model\n"
          ],
          "name": "stdout"
        }
      ]
    },
    {
      "cell_type": "code",
      "metadata": {
        "id": "kUppZOL_NpG8",
        "colab_type": "code",
        "colab": {
          "base_uri": "https://localhost:8080/",
          "height": 508
        },
        "outputId": "3774daac-ff40-4c5a-968e-231e4e6a8c81"
      },
      "source": [
        "model = load_model('model_v6_23.hdf5')"
      ],
      "execution_count": 4,
      "outputs": [
        {
          "output_type": "stream",
          "text": [
            "WARNING:tensorflow:From /usr/local/lib/python3.6/dist-packages/keras/backend/tensorflow_backend.py:541: The name tf.placeholder is deprecated. Please use tf.compat.v1.placeholder instead.\n",
            "\n",
            "WARNING:tensorflow:From /usr/local/lib/python3.6/dist-packages/keras/backend/tensorflow_backend.py:4432: The name tf.random_uniform is deprecated. Please use tf.random.uniform instead.\n",
            "\n",
            "WARNING:tensorflow:From /usr/local/lib/python3.6/dist-packages/keras/backend/tensorflow_backend.py:4267: The name tf.nn.max_pool is deprecated. Please use tf.nn.max_pool2d instead.\n",
            "\n",
            "WARNING:tensorflow:From /usr/local/lib/python3.6/dist-packages/keras/backend/tensorflow_backend.py:190: The name tf.get_default_session is deprecated. Please use tf.compat.v1.get_default_session instead.\n",
            "\n",
            "WARNING:tensorflow:From /usr/local/lib/python3.6/dist-packages/keras/backend/tensorflow_backend.py:197: The name tf.ConfigProto is deprecated. Please use tf.compat.v1.ConfigProto instead.\n",
            "\n",
            "WARNING:tensorflow:From /usr/local/lib/python3.6/dist-packages/keras/backend/tensorflow_backend.py:203: The name tf.Session is deprecated. Please use tf.compat.v1.Session instead.\n",
            "\n",
            "WARNING:tensorflow:From /usr/local/lib/python3.6/dist-packages/keras/backend/tensorflow_backend.py:207: The name tf.global_variables is deprecated. Please use tf.compat.v1.global_variables instead.\n",
            "\n",
            "WARNING:tensorflow:From /usr/local/lib/python3.6/dist-packages/keras/backend/tensorflow_backend.py:216: The name tf.is_variable_initialized is deprecated. Please use tf.compat.v1.is_variable_initialized instead.\n",
            "\n",
            "WARNING:tensorflow:From /usr/local/lib/python3.6/dist-packages/keras/backend/tensorflow_backend.py:223: The name tf.variables_initializer is deprecated. Please use tf.compat.v1.variables_initializer instead.\n",
            "\n",
            "WARNING:tensorflow:From /usr/local/lib/python3.6/dist-packages/keras/optimizers.py:793: The name tf.train.Optimizer is deprecated. Please use tf.compat.v1.train.Optimizer instead.\n",
            "\n",
            "WARNING:tensorflow:From /usr/local/lib/python3.6/dist-packages/keras/backend/tensorflow_backend.py:3576: The name tf.log is deprecated. Please use tf.math.log instead.\n",
            "\n",
            "WARNING:tensorflow:From /usr/local/lib/python3.6/dist-packages/tensorflow_core/python/ops/math_grad.py:1424: where (from tensorflow.python.ops.array_ops) is deprecated and will be removed in a future version.\n",
            "Instructions for updating:\n",
            "Use tf.where in 2.0, which has the same broadcast rule as np.where\n",
            "WARNING:tensorflow:From /usr/local/lib/python3.6/dist-packages/keras/backend/tensorflow_backend.py:1033: The name tf.assign_add is deprecated. Please use tf.compat.v1.assign_add instead.\n",
            "\n",
            "WARNING:tensorflow:From /usr/local/lib/python3.6/dist-packages/keras/backend/tensorflow_backend.py:1020: The name tf.assign is deprecated. Please use tf.compat.v1.assign instead.\n",
            "\n"
          ],
          "name": "stdout"
        }
      ]
    },
    {
      "cell_type": "code",
      "metadata": {
        "id": "izZKAzOVNyNf",
        "colab_type": "code",
        "colab": {
          "base_uri": "https://localhost:8080/",
          "height": 505
        },
        "outputId": "4de06dcf-cb58-4252-af36-fb22822183c8"
      },
      "source": [
        "model.summary()"
      ],
      "execution_count": 37,
      "outputs": [
        {
          "output_type": "stream",
          "text": [
            "Model: \"sequential_11\"\n",
            "_________________________________________________________________\n",
            "Layer (type)                 Output Shape              Param #   \n",
            "=================================================================\n",
            "conv2d_54 (Conv2D)           (None, 46, 46, 32)        320       \n",
            "_________________________________________________________________\n",
            "conv2d_55 (Conv2D)           (None, 44, 44, 64)        18496     \n",
            "_________________________________________________________________\n",
            "max_pooling2d_27 (MaxPooling (None, 22, 22, 64)        0         \n",
            "_________________________________________________________________\n",
            "conv2d_56 (Conv2D)           (None, 20, 20, 128)       73856     \n",
            "_________________________________________________________________\n",
            "max_pooling2d_28 (MaxPooling (None, 10, 10, 128)       0         \n",
            "_________________________________________________________________\n",
            "conv2d_57 (Conv2D)           (None, 8, 8, 128)         147584    \n",
            "_________________________________________________________________\n",
            "max_pooling2d_29 (MaxPooling (None, 4, 4, 128)         0         \n",
            "_________________________________________________________________\n",
            "conv2d_58 (Conv2D)           (None, 4, 4, 7)           903       \n",
            "_________________________________________________________________\n",
            "conv2d_59 (Conv2D)           (None, 1, 1, 7)           791       \n",
            "_________________________________________________________________\n",
            "flatten_10 (Flatten)         (None, 7)                 0         \n",
            "_________________________________________________________________\n",
            "activation_10 (Activation)   (None, 7)                 0         \n",
            "=================================================================\n",
            "Total params: 241,950\n",
            "Trainable params: 241,950\n",
            "Non-trainable params: 0\n",
            "_________________________________________________________________\n"
          ],
          "name": "stdout"
        }
      ]
    },
    {
      "cell_type": "code",
      "metadata": {
        "id": "7-evXb6TPTUz",
        "colab_type": "code",
        "colab": {
          "base_uri": "https://localhost:8080/",
          "height": 460
        },
        "outputId": "c60aec0b-be3e-4f9e-b512-f001a8bb91e0"
      },
      "source": [
        "model = Model(inputs=model.inputs, outputs=model.layers[-5].output)\n",
        "model.summary()"
      ],
      "execution_count": 5,
      "outputs": [
        {
          "output_type": "stream",
          "text": [
            "WARNING:tensorflow:From /usr/local/lib/python3.6/dist-packages/keras/backend/tensorflow_backend.py:66: The name tf.get_default_graph is deprecated. Please use tf.compat.v1.get_default_graph instead.\n",
            "\n",
            "Model: \"model_1\"\n",
            "_________________________________________________________________\n",
            "Layer (type)                 Output Shape              Param #   \n",
            "=================================================================\n",
            "conv2d_54_input (InputLayer) (None, 48, 48, 1)         0         \n",
            "_________________________________________________________________\n",
            "conv2d_54 (Conv2D)           (None, 46, 46, 32)        320       \n",
            "_________________________________________________________________\n",
            "conv2d_55 (Conv2D)           (None, 44, 44, 64)        18496     \n",
            "_________________________________________________________________\n",
            "max_pooling2d_27 (MaxPooling (None, 22, 22, 64)        0         \n",
            "_________________________________________________________________\n",
            "conv2d_56 (Conv2D)           (None, 20, 20, 128)       73856     \n",
            "_________________________________________________________________\n",
            "max_pooling2d_28 (MaxPooling (None, 10, 10, 128)       0         \n",
            "_________________________________________________________________\n",
            "conv2d_57 (Conv2D)           (None, 8, 8, 128)         147584    \n",
            "_________________________________________________________________\n",
            "max_pooling2d_29 (MaxPooling (None, 4, 4, 128)         0         \n",
            "=================================================================\n",
            "Total params: 240,256\n",
            "Trainable params: 240,256\n",
            "Non-trainable params: 0\n",
            "_________________________________________________________________\n"
          ],
          "name": "stdout"
        }
      ]
    },
    {
      "cell_type": "code",
      "metadata": {
        "id": "2WaBx7FjQLIV",
        "colab_type": "code",
        "colab": {
          "base_uri": "https://localhost:8080/",
          "height": 472
        },
        "outputId": "582248c0-65a8-4dac-8eab-34bb2bf6b03d"
      },
      "source": [
        "new_model = Sequential()\n",
        "new_model.add(model)\n",
        "new_model.summary()\n",
        "\n",
        "new_model.add(Conv2D(8, kernel_size=(1, 1), activation='relu', kernel_regularizer=regularizers.l2(0.0001)))\n",
        "# # model.add(BatchNormalization())\n",
        "\n",
        "new_model.add(Conv2D(8, kernel_size=(4, 4), activation='relu', kernel_regularizer=regularizers.l2(0.0001)))\n",
        "# model.add(BatchNormalization())\n",
        "\n",
        "new_model.add(Flatten())\n",
        "\n",
        "new_model.add(Activation(\"softmax\"))\n",
        "new_model.summary()\n",
        "\n"
      ],
      "execution_count": 6,
      "outputs": [
        {
          "output_type": "stream",
          "text": [
            "Model: \"sequential_1\"\n",
            "_________________________________________________________________\n",
            "Layer (type)                 Output Shape              Param #   \n",
            "=================================================================\n",
            "model_1 (Model)              (None, 4, 4, 128)         240256    \n",
            "=================================================================\n",
            "Total params: 240,256\n",
            "Trainable params: 240,256\n",
            "Non-trainable params: 0\n",
            "_________________________________________________________________\n",
            "Model: \"sequential_1\"\n",
            "_________________________________________________________________\n",
            "Layer (type)                 Output Shape              Param #   \n",
            "=================================================================\n",
            "model_1 (Model)              (None, 4, 4, 128)         240256    \n",
            "_________________________________________________________________\n",
            "conv2d_1 (Conv2D)            (None, 4, 4, 8)           1032      \n",
            "_________________________________________________________________\n",
            "conv2d_2 (Conv2D)            (None, 1, 1, 8)           1032      \n",
            "_________________________________________________________________\n",
            "flatten_1 (Flatten)          (None, 8)                 0         \n",
            "_________________________________________________________________\n",
            "activation_1 (Activation)    (None, 8)                 0         \n",
            "=================================================================\n",
            "Total params: 242,320\n",
            "Trainable params: 242,320\n",
            "Non-trainable params: 0\n",
            "_________________________________________________________________\n"
          ],
          "name": "stdout"
        }
      ]
    },
    {
      "cell_type": "code",
      "metadata": {
        "id": "lyz0PcdzW1Gv",
        "colab_type": "code",
        "colab": {}
      },
      "source": [
        "new_model.compile(loss='categorical_crossentropy',optimizer=Adam(lr=0.0001, decay=1e-6),metrics=['accuracy'])"
      ],
      "execution_count": 0,
      "outputs": []
    },
    {
      "cell_type": "code",
      "metadata": {
        "id": "sbo_GnqiWd6k",
        "colab_type": "code",
        "colab": {
          "base_uri": "https://localhost:8080/",
          "height": 33
        },
        "outputId": "d69094d4-15a0-4841-f6a4-16a33d1865dd"
      },
      "source": [
        "cd '/content/gdrive/My Drive/APM/Dataset/unzipped/'"
      ],
      "execution_count": 8,
      "outputs": [
        {
          "output_type": "stream",
          "text": [
            "/content/gdrive/My Drive/APM/Dataset/unzipped\n"
          ],
          "name": "stdout"
        }
      ]
    },
    {
      "cell_type": "code",
      "metadata": {
        "id": "NFj5SJ0gWXl3",
        "colab_type": "code",
        "colab": {}
      },
      "source": [
        "test_on = ['Actor_17', 'Actor_20']\n",
        "def video_generator(skip):\n",
        "  j = 1\n",
        "  X=[]\n",
        "  Y=[]\n",
        " \n",
        "  for actor in os.listdir('./'):\n",
        "  #for actor in [('Actor_01'),]:\n",
        "    print(actor)\n",
        "\n",
        "    if ('Actor' not in actor) or (actor in skip):\n",
        "      \n",
        "      continue # skipping the extra folders\n",
        "    path = os.path.join('./',actor)\n",
        "    \n",
        "    # progress tracking\n",
        "    l = len(os.listdir(path))\n",
        "    i = 0\n",
        "    \n",
        "    #print('Training on',actor)\n",
        "    j += 1\n",
        "\n",
        "    for filename in os.listdir(path):\n",
        "      \n",
        "      print(filename)\n",
        "      path_inner = os.path.join(path, filename)\n",
        "      file_emotion = [0]*8\n",
        "      file_emotion[int(path_inner[17:19])-1] = 1\n",
        "      print(file_emotion)\n",
        "      print(path_inner)\n",
        "\n",
        "      cap = cv2.VideoCapture(path_inner)\n",
        "      x = []\n",
        "      y = []\n",
        "      \n",
        "     \n",
        "\n",
        "      frame_count = 0\n",
        "      while True:\n",
        "        \n",
        "        frame_count += 1\n",
        "        # read the next frame from the file\n",
        "        (grabbed, frame) = cap.read()\n",
        "\n",
        "        # If the frame was not grabbed, then we have reached the end\n",
        "        # of the stream\n",
        "        if not grabbed:\n",
        "          \n",
        "          #print('Done,',i,'frames captured.')\n",
        "          break\n",
        "        # only grab each 5th frame to capture a slightly different expression each time; makes computation 5x faster\n",
        "        elif frame_count % 20 == 0:\n",
        "          frame= cv2.resize(frame, (48,48))\n",
        "          frame = cv2.cvtColor(frame, cv2.COLOR_BGR2GRAY)\n",
        "          frame = np.reshape(frame, [frame.shape[0], frame.shape[1], 1])\n",
        "          x.append(frame)\n",
        "          y.append(file_emotion)\n",
        "\n",
        "      \n",
        "      i += 1\n",
        "      #print('    Training on',filename, int(i/l*100), '%')\n",
        "      #cnn.train_on_batch(x,y)\n",
        "      x = np.array(x)\n",
        "      y = np.array(y)\n",
        "      i += 1\n",
        "      #print('    Training on',filename, int(i/l*100), '%')\n",
        "      #cnn.train_on_batch(x,y)\n",
        "      yield (x,y)\n",
        "      del x\n",
        "      del y\n",
        "      \n",
        "      \n",
        "  "
      ],
      "execution_count": 0,
      "outputs": []
    },
    {
      "cell_type": "code",
      "metadata": {
        "id": "eegCo79tRT4I",
        "colab_type": "code",
        "colab": {
          "base_uri": "https://localhost:8080/",
          "height": 1000
        },
        "outputId": "4db6d8e5-3021-489c-e2c3-4f8c739b6675"
      },
      "source": [
        "new_model.fit_generator(video_generator(test_on), steps_per_epoch=25,epochs = 50,verbose = 1)\n",
        "new_model.save('transfer.hdf5')"
      ],
      "execution_count": 10,
      "outputs": [
        {
          "output_type": "stream",
          "text": ["Running"],
          "name": "stdout"
        }
      ]
    },
    {
      "cell_type": "code",
      "metadata": {
        "id": "Yu2gype4EbM8",
        "colab_type": "code",
        "colab": {}
      },
      "source": [
        "model=load_model('transfer.hdf5')"
      ],
      "execution_count": 0,
      "outputs": []
    },
    {
      "cell_type": "code",
      "metadata": {
        "id": "-glipn3bEKy7",
        "colab_type": "code",
        "colab": {}
      },
      "source": [
        "def testOnActor(actor):\n",
        "  actor_dir = './'+actor+'/'\n",
        "  loss = []\n",
        "  acc = []\n",
        "  #Test\n",
        "  i = 0\n",
        "  for filename in os.listdir(actor_dir):\n",
        "    i += 1\n",
        "    #if i > 10:\n",
        "    #  break\n",
        "   \n",
        "    path = os.path.join(actor_dir, filename)\n",
        "    file_emotion = [0]*8\n",
        "    file_emotion[int(path[17:19])-1] = 1\n",
        "\n",
        "    cap = cv2.VideoCapture(path)\n",
        "    \n",
        "    x = []\n",
        "    y = []\n",
        "    frame_count = 0\n",
        "    while True:\n",
        "      # read the next frame from the file\n",
        "      (grabbed, frame) = cap.read()\n",
        "      frame_count += 1\n",
        "\n",
        "      # If the frame was not grabbed, then we have reached the end\n",
        "      # of the stream\n",
        "      if not grabbed:\n",
        "        #print('Done,',i,'frames captured.')\n",
        "        break\n",
        "      \n",
        "      elif frame_count % 10 == 0:\n",
        "      \n",
        "        frame=cv2.resize(frame, (48,48))\n",
        "        frame = cv2.cvtColor(frame, cv2.COLOR_BGR2GRAY)\n",
        "        frame = np.reshape(frame, [frame.shape[0], frame.shape[1], 1])\n",
        "\n",
        "        x.append(frame)\n",
        "        y.append(file_emotion)\n",
        "        \n",
        "\n",
        "    x = np.array(x)\n",
        "    y = np.array(y)\n",
        "    \n",
        "    \n",
        "    #print('Testing on',filename)\n",
        "    test = model.test_on_batch(x,y)\n",
        "\n",
        "    \n",
        "\n",
        "    loss.append(test[0])\n",
        "    acc.append(test[1])\n",
        "    del x\n",
        "    del y   \n",
        "    gc.collect()\n",
        "\n",
        "    \n",
        "\n",
        "  return loss,acc\n",
        "\n",
        "\n"
      ],
      "execution_count": 0,
      "outputs": []
    },
    {
      "cell_type": "code",
      "metadata": {
        "id": "ZcIix3_PESpF",
        "colab_type": "code",
        "colab": {
          "base_uri": "https://localhost:8080/",
          "height": 66
        },
        "outputId": "5cbe7062-b867-46ee-aea0-98383a82d783"
      },
      "source": [
        "loss23,acc23 = testOnActor('Actor_23')\n",
        "print('Actor 23:')\n",
        "print('Average Loss =',np.array(loss23).mean())\n",
        "print('Average Accuracy =',np.array(acc23).mean())"
      ],
      "execution_count": 37,
      "outputs": [
        {
          "output_type": "stream",
          "text": [
            "Actor 23:\n",
            "Average Loss = 13.976456\n",
            "Average Accuracy = 0.13333334\n"
          ],
          "name": "stdout"
        }
      ]
    },
    {
      "cell_type": "code",
      "metadata": {
        "id": "vYAimlI6ETHU",
        "colab_type": "code",
        "colab": {
          "base_uri": "https://localhost:8080/",
          "height": 66
        },
        "outputId": "d0cb6412-ea64-44a2-c531-1988d3285d1b"
      },
      "source": [
        "loss24,acc24 = testOnActor('Actor_24')\n",
        "print('Actor 24:')\n",
        "print('Average Loss =',np.array(loss24).mean())\n",
        "print('Average Accuracy =',np.array(acc24).mean())\n"
      ],
      "execution_count": 38,
      "outputs": [
        {
          "output_type": "stream",
          "text": [
            "Actor 24:\n",
            "Average Loss = 13.976457\n",
            "Average Accuracy = 0.13333334\n"
          ],
          "name": "stdout"
        }
      ]
    },
    {
      "cell_type": "markdown",
      "metadata": {
        "id": "fx98lp-2WpbY",
        "colab_type": "text"
      },
      "source": [
        ""
      ]
    }
  ]
}
