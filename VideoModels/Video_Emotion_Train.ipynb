{
  "nbformat": 4,
  "nbformat_minor": 0,
  "metadata": {
    "colab": {
      "name": "Video_Emotion_Train.ipynb",
      "provenance": []
    },
    "kernelspec": {
      "name": "python3",
      "display_name": "Python 3"
    }
  },
  "cells": [
    {
      "cell_type": "code",
      "metadata": {
        "id": "cjBZ64D_wZJy",
        "colab_type": "code",
        "colab": {
          "base_uri": "https://localhost:8080/",
          "height": 77
        },
        "outputId": "13e9f733-e64b-44db-ce42-f676234b5032"
      },
      "source": [
        "from keras.layers import Dense, Dropout, Flatten, Input, ZeroPadding2D\n",
        "from keras.layers.convolutional import Conv2D\n",
        "from keras.layers.normalization import BatchNormalization\n",
        "from keras.layers.pooling import MaxPooling2D\n",
        "from keras import regularizers\n",
        "from keras.models import Model\n",
        "from keras import optimizers\n",
        "from matplotlib import pyplot as plt\n",
        "import numpy as np\n",
        "from PIL import Image\n",
        "from cv2 import cv2\n",
        "from google.colab import drive\n",
        "import pandas as pd \n",
        "import keras \n",
        "from keras.models import load_model\n",
        "import os"
      ],
      "execution_count": 3,
      "outputs": [
        {
          "output_type": "stream",
          "text": [
            "Using TensorFlow backend.\n"
          ],
          "name": "stderr"
        },
        {
          "output_type": "display_data",
          "data": {
            "text/html": [
              "<p style=\"color: red;\">\n",
              "The default version of TensorFlow in Colab will soon switch to TensorFlow 2.x.<br>\n",
              "We recommend you <a href=\"https://www.tensorflow.org/guide/migrate\" target=\"_blank\">upgrade</a> now \n",
              "or ensure your notebook will continue to use TensorFlow 1.x via the <code>%tensorflow_version 1.x</code> magic:\n",
              "<a href=\"https://colab.research.google.com/notebooks/tensorflow_version.ipynb\" target=\"_blank\">more info</a>.</p>\n"
            ],
            "text/plain": [
              "<IPython.core.display.HTML object>"
            ]
          },
          "metadata": {
            "tags": []
          }
        }
      ]
    },
    {
      "cell_type": "code",
      "metadata": {
        "id": "GcdxvKV_xOdf",
        "colab_type": "code",
        "colab": {
          "base_uri": "https://localhost:8080/",
          "height": 33
        },
        "outputId": "e1e605e0-3b7e-4735-b0a8-6311563e0af1"
      },
      "source": [
        "drive.mount('/content/gdrive')\n",
        "root_path = 'gdrive/My Drive/APM'  "
      ],
      "execution_count": 4,
      "outputs": [
        {
          "output_type": "stream",
          "text": [
            "Drive already mounted at /content/gdrive; to attempt to forcibly remount, call drive.mount(\"/content/gdrive\", force_remount=True).\n"
          ],
          "name": "stdout"
        }
      ]
    },
    {
      "cell_type": "code",
      "metadata": {
        "id": "5U8nLCdfxLD1",
        "colab_type": "code",
        "colab": {
          "base_uri": "https://localhost:8080/",
          "height": 1000
        },
        "outputId": "295bed3c-454f-49be-ee04-65351118624c"
      },
      "source": [
        "visible = Input(shape=(256,256,1))\n",
        "conv1 = Conv2D(16, kernel_size=(3,3), activation='relu', strides=(1, 1))(visible)\n",
        "conv2 = Conv2D(16, kernel_size=(3,3), activation='relu', strides=(1, 1))(conv1)\n",
        "bat1 = BatchNormalization()(conv2)\n",
        "zero1 = ZeroPadding2D(padding=(1, 1))(bat1)\n",
        "\n",
        "conv3 = Conv2D(32, kernel_size=(3,3), activation='relu', padding='valid', kernel_regularizer=regularizers.l2(0.05))(zero1)\n",
        "conv4 = Conv2D(32, kernel_size=(3,3), activation='relu', padding='valid', kernel_regularizer=regularizers.l2(0.05))(conv3)\n",
        "bat2 = BatchNormalization()(conv4)\n",
        "\n",
        "conv5 = Conv2D(64, kernel_size=(3,3), activation='relu',strides=(1, 1), padding='valid')(bat2)\n",
        "conv6 = Conv2D(64, kernel_size=(3,3), activation='relu',strides=(1, 1), padding='valid')(conv5)\n",
        "bat3 = BatchNormalization()(conv6)\n",
        "pool1 = MaxPooling2D(pool_size=(2, 2))(bat3)\n",
        "zero2 = ZeroPadding2D(padding=(1, 1))(pool1)\n",
        "\n",
        "conv7 = Conv2D(128, kernel_size=(3,3), activation='relu', padding='valid', kernel_regularizer=regularizers.l2(0.01))(zero2)\n",
        "conv8 = Conv2D(128, kernel_size=(2,2), activation='relu', strides=(1, 1), padding='valid')(conv7)\n",
        "bat4 = BatchNormalization()(conv8)\n",
        "\n",
        "conv15 = Conv2D(128, kernel_size=(3,3), activation='relu', padding='valid', kernel_regularizer=regularizers.l2(0.05))(bat4)\n",
        "conv16 = Conv2D(128, kernel_size=(2,2), activation='relu', strides=(1, 1), padding='valid')(conv8)\n",
        "bat8 = BatchNormalization()(conv16)\n",
        "\n",
        "flat = Flatten()(bat8)\n",
        "hidden1 = Dense(32, activation='relu')(flat)\n",
        "drop1 = Dropout(0.3)(hidden1)\n",
        "\n",
        "hidden2 = Dense(32, activation='relu')(drop1)\n",
        "drop2 = Dropout(0.2)(hidden2)\n",
        "\n",
        "output = Dense(8, activation='sigmoid')(drop2)\n",
        "model = Model(inputs=visible, outputs=output)\n",
        "\n",
        "opt = optimizers.SGD(lr=0.01, decay=1e-6, momentum=0.9, nesterov=True)\n",
        "\n",
        "model.compile(optimizer= opt, \n",
        "              loss='binary_crossentropy',\n",
        "              metrics=['accuracy'])\n",
        "\n",
        "model.summary()"
      ],
      "execution_count": 3,
      "outputs": [
        {
          "output_type": "stream",
          "text": [
            "WARNING:tensorflow:From /usr/local/lib/python3.6/dist-packages/keras/backend/tensorflow_backend.py:66: The name tf.get_default_graph is deprecated. Please use tf.compat.v1.get_default_graph instead.\n",
            "\n",
            "WARNING:tensorflow:From /usr/local/lib/python3.6/dist-packages/keras/backend/tensorflow_backend.py:541: The name tf.placeholder is deprecated. Please use tf.compat.v1.placeholder instead.\n",
            "\n",
            "WARNING:tensorflow:From /usr/local/lib/python3.6/dist-packages/keras/backend/tensorflow_backend.py:4432: The name tf.random_uniform is deprecated. Please use tf.random.uniform instead.\n",
            "\n",
            "WARNING:tensorflow:From /usr/local/lib/python3.6/dist-packages/keras/backend/tensorflow_backend.py:190: The name tf.get_default_session is deprecated. Please use tf.compat.v1.get_default_session instead.\n",
            "\n",
            "WARNING:tensorflow:From /usr/local/lib/python3.6/dist-packages/keras/backend/tensorflow_backend.py:197: The name tf.ConfigProto is deprecated. Please use tf.compat.v1.ConfigProto instead.\n",
            "\n",
            "WARNING:tensorflow:From /usr/local/lib/python3.6/dist-packages/keras/backend/tensorflow_backend.py:203: The name tf.Session is deprecated. Please use tf.compat.v1.Session instead.\n",
            "\n",
            "WARNING:tensorflow:From /usr/local/lib/python3.6/dist-packages/keras/backend/tensorflow_backend.py:207: The name tf.global_variables is deprecated. Please use tf.compat.v1.global_variables instead.\n",
            "\n",
            "WARNING:tensorflow:From /usr/local/lib/python3.6/dist-packages/keras/backend/tensorflow_backend.py:216: The name tf.is_variable_initialized is deprecated. Please use tf.compat.v1.is_variable_initialized instead.\n",
            "\n",
            "WARNING:tensorflow:From /usr/local/lib/python3.6/dist-packages/keras/backend/tensorflow_backend.py:223: The name tf.variables_initializer is deprecated. Please use tf.compat.v1.variables_initializer instead.\n",
            "\n",
            "WARNING:tensorflow:From /usr/local/lib/python3.6/dist-packages/keras/backend/tensorflow_backend.py:2041: The name tf.nn.fused_batch_norm is deprecated. Please use tf.compat.v1.nn.fused_batch_norm instead.\n",
            "\n",
            "WARNING:tensorflow:From /usr/local/lib/python3.6/dist-packages/keras/backend/tensorflow_backend.py:148: The name tf.placeholder_with_default is deprecated. Please use tf.compat.v1.placeholder_with_default instead.\n",
            "\n",
            "WARNING:tensorflow:From /usr/local/lib/python3.6/dist-packages/keras/backend/tensorflow_backend.py:4267: The name tf.nn.max_pool is deprecated. Please use tf.nn.max_pool2d instead.\n",
            "\n",
            "WARNING:tensorflow:From /usr/local/lib/python3.6/dist-packages/keras/backend/tensorflow_backend.py:3733: calling dropout (from tensorflow.python.ops.nn_ops) with keep_prob is deprecated and will be removed in a future version.\n",
            "Instructions for updating:\n",
            "Please use `rate` instead of `keep_prob`. Rate should be set to `rate = 1 - keep_prob`.\n",
            "WARNING:tensorflow:From /usr/local/lib/python3.6/dist-packages/keras/optimizers.py:793: The name tf.train.Optimizer is deprecated. Please use tf.compat.v1.train.Optimizer instead.\n",
            "\n",
            "WARNING:tensorflow:From /usr/local/lib/python3.6/dist-packages/keras/backend/tensorflow_backend.py:3657: The name tf.log is deprecated. Please use tf.math.log instead.\n",
            "\n",
            "WARNING:tensorflow:From /usr/local/lib/python3.6/dist-packages/tensorflow_core/python/ops/nn_impl.py:183: where (from tensorflow.python.ops.array_ops) is deprecated and will be removed in a future version.\n",
            "Instructions for updating:\n",
            "Use tf.where in 2.0, which has the same broadcast rule as np.where\n",
            "Model: \"model_1\"\n",
            "_________________________________________________________________\n",
            "Layer (type)                 Output Shape              Param #   \n",
            "=================================================================\n",
            "input_1 (InputLayer)         (None, 256, 256, 1)       0         \n",
            "_________________________________________________________________\n",
            "conv2d_1 (Conv2D)            (None, 254, 254, 16)      160       \n",
            "_________________________________________________________________\n",
            "conv2d_2 (Conv2D)            (None, 252, 252, 16)      2320      \n",
            "_________________________________________________________________\n",
            "batch_normalization_1 (Batch (None, 252, 252, 16)      64        \n",
            "_________________________________________________________________\n",
            "zero_padding2d_1 (ZeroPaddin (None, 254, 254, 16)      0         \n",
            "_________________________________________________________________\n",
            "conv2d_3 (Conv2D)            (None, 252, 252, 32)      4640      \n",
            "_________________________________________________________________\n",
            "conv2d_4 (Conv2D)            (None, 250, 250, 32)      9248      \n",
            "_________________________________________________________________\n",
            "batch_normalization_2 (Batch (None, 250, 250, 32)      128       \n",
            "_________________________________________________________________\n",
            "conv2d_5 (Conv2D)            (None, 248, 248, 64)      18496     \n",
            "_________________________________________________________________\n",
            "conv2d_6 (Conv2D)            (None, 246, 246, 64)      36928     \n",
            "_________________________________________________________________\n",
            "batch_normalization_3 (Batch (None, 246, 246, 64)      256       \n",
            "_________________________________________________________________\n",
            "max_pooling2d_1 (MaxPooling2 (None, 123, 123, 64)      0         \n",
            "_________________________________________________________________\n",
            "zero_padding2d_2 (ZeroPaddin (None, 125, 125, 64)      0         \n",
            "_________________________________________________________________\n",
            "conv2d_7 (Conv2D)            (None, 123, 123, 128)     73856     \n",
            "_________________________________________________________________\n",
            "conv2d_8 (Conv2D)            (None, 122, 122, 128)     65664     \n",
            "_________________________________________________________________\n",
            "conv2d_10 (Conv2D)           (None, 121, 121, 128)     65664     \n",
            "_________________________________________________________________\n",
            "batch_normalization_5 (Batch (None, 121, 121, 128)     512       \n",
            "_________________________________________________________________\n",
            "flatten_1 (Flatten)          (None, 1874048)           0         \n",
            "_________________________________________________________________\n",
            "dense_1 (Dense)              (None, 32)                59969568  \n",
            "_________________________________________________________________\n",
            "dropout_1 (Dropout)          (None, 32)                0         \n",
            "_________________________________________________________________\n",
            "dense_2 (Dense)              (None, 32)                1056      \n",
            "_________________________________________________________________\n",
            "dropout_2 (Dropout)          (None, 32)                0         \n",
            "_________________________________________________________________\n",
            "dense_3 (Dense)              (None, 8)                 264       \n",
            "=================================================================\n",
            "Total params: 60,248,824\n",
            "Trainable params: 60,248,344\n",
            "Non-trainable params: 480\n",
            "_________________________________________________________________\n"
          ],
          "name": "stdout"
        }
      ]
    },
    {
      "cell_type": "code",
      "metadata": {
        "id": "QaA0fSmkyPse",
        "colab_type": "code",
        "colab": {
          "base_uri": "https://localhost:8080/",
          "height": 33
        },
        "outputId": "b2199a72-5e44-4486-d907-ccd12452b8b2"
      },
      "source": [
        "cd '/content/gdrive/My Drive/APM/Dataset/unzipped/'"
      ],
      "execution_count": 3,
      "outputs": [
        {
          "output_type": "stream",
          "text": [
            "/content/gdrive/My Drive/APM/Dataset/unzipped\n"
          ],
          "name": "stdout"
        }
      ]
    },
    {
      "cell_type": "code",
      "metadata": {
        "id": "5p7bExXiyQa3",
        "colab_type": "code",
        "colab": {}
      },
      "source": [
        "test_on = ['Actor_17', 'Actor_20']\n",
        "def video_generator(skip):\n",
        "  j = 1\n",
        "  X=[]\n",
        "  Y=[]\n",
        " \n",
        "  for actor in os.listdir('./'):\n",
        "  #for actor in [('Actor_01'),]:\n",
        "    print(actor)\n",
        "\n",
        "    if ('Actor' not in actor) or (actor in skip):\n",
        "      \n",
        "      continue # skipping the extra folders\n",
        "    path = os.path.join('./',actor)\n",
        "    \n",
        "    # progress tracking\n",
        "    l = len(os.listdir(path))\n",
        "    i = 0\n",
        "    \n",
        "    #print('Training on',actor)\n",
        "    j += 1\n",
        "\n",
        "    for filename in os.listdir(path):\n",
        "      \n",
        "      print(filename)\n",
        "      path_inner = os.path.join(path, filename)\n",
        "      file_emotion = [0]*8\n",
        "      file_emotion[int(path_inner[17:19])-1] = 1\n",
        "      print(file_emotion)\n",
        "      print(path_inner)\n",
        "\n",
        "      cap = cv2.VideoCapture(path_inner)\n",
        "      x = []\n",
        "      y = []\n",
        "      \n",
        "     \n",
        "\n",
        "      frame_count = 0\n",
        "      while True:\n",
        "        \n",
        "        frame_count += 1\n",
        "        # read the next frame from the file\n",
        "        (grabbed, frame) = cap.read()\n",
        "\n",
        "        # If the frame was not grabbed, then we have reached the end\n",
        "        # of the stream\n",
        "        if not grabbed:\n",
        "          \n",
        "          #print('Done,',i,'frames captured.')\n",
        "          break\n",
        "        # only grab each 5th frame to capture a slightly different expression each time; makes computation 5x faster\n",
        "        elif frame_count % 20 == 0:\n",
        "          frame= cv2.resize(frame, (256,256))\n",
        "          frame = cv2.cvtColor(frame, cv2.COLOR_BGR2GRAY)\n",
        "          frame = np.reshape(frame, [frame.shape[0], frame.shape[1], 1])\n",
        "          x.append(frame)\n",
        "          y.append(file_emotion)\n",
        "\n",
        "      \n",
        "      i += 1\n",
        "      #print('    Training on',filename, int(i/l*100), '%')\n",
        "      #cnn.train_on_batch(x,y)\n",
        "      x = np.array(x)\n",
        "      y = np.array(y)\n",
        "      i += 1\n",
        "      #print('    Training on',filename, int(i/l*100), '%')\n",
        "      #cnn.train_on_batch(x,y)\n",
        "      yield (x,y)\n",
        "      del x\n",
        "      del y\n",
        "      \n",
        "      \n",
        "  "
      ],
      "execution_count": 0,
      "outputs": []
    },
    {
      "cell_type": "code",
      "metadata": {
        "id": "YssDz2SfyQf3",
        "colab_type": "code",
        "colab": {
          "base_uri": "https://localhost:8080/",
          "height": 1000
        },
        "outputId": "d4784faa-3bc0-470e-f5b6-278b55c095fb"
      },
      "source": [
        "model.fit_generator(video_generator(test_on), steps_per_epoch=25,epochs = 15,verbose = 1)\n",
        "model.save('Video_Emotion_Detection_25.hdf5')"
      ],
      "execution_count": 7,
      "outputs": [
        {
          "output_type": "stream",
          "text": ["Running"],
          "name": "stdout"
        }
      ]
    },
    {
      "cell_type": "code",
      "metadata": {
        "id": "R1Ntz6FgdQVG",
        "colab_type": "code",
        "colab": {
          "base_uri": "https://localhost:8080/",
          "height": 33
        },
        "outputId": "c30c83db-8040-4d78-e073-1a77f0dca9b5"
      },
      "source": [
        "cd '/content/gdrive/My Drive/APM/Dataset/unzipped'"
      ],
      "execution_count": 7,
      "outputs": [
        {
          "output_type": "stream",
          "text": [
            "/content/gdrive/My Drive/APM/Dataset/unzipped\n"
          ],
          "name": "stdout"
        }
      ]
    },
    {
      "cell_type": "code",
      "metadata": {
        "id": "W4sFGuT7c_xT",
        "colab_type": "code",
        "colab": {
          "base_uri": "https://localhost:8080/",
          "height": 655
        },
        "outputId": "6edd03d8-18e1-4709-a2a9-0d89f047a83d"
      },
      "source": [
        "model=load_model('09.hdf5')"
      ],
      "execution_count": 9,
      "outputs": [
        {
          "output_type": "stream",
          "text": [
            "WARNING:tensorflow:From /usr/local/lib/python3.6/dist-packages/keras/backend/tensorflow_backend.py:541: The name tf.placeholder is deprecated. Please use tf.compat.v1.placeholder instead.\n",
            "\n",
            "WARNING:tensorflow:From /usr/local/lib/python3.6/dist-packages/keras/backend/tensorflow_backend.py:4432: The name tf.random_uniform is deprecated. Please use tf.random.uniform instead.\n",
            "\n",
            "WARNING:tensorflow:From /usr/local/lib/python3.6/dist-packages/keras/backend/tensorflow_backend.py:66: The name tf.get_default_graph is deprecated. Please use tf.compat.v1.get_default_graph instead.\n",
            "\n",
            "WARNING:tensorflow:From /usr/local/lib/python3.6/dist-packages/keras/backend/tensorflow_backend.py:190: The name tf.get_default_session is deprecated. Please use tf.compat.v1.get_default_session instead.\n",
            "\n",
            "WARNING:tensorflow:From /usr/local/lib/python3.6/dist-packages/keras/backend/tensorflow_backend.py:197: The name tf.ConfigProto is deprecated. Please use tf.compat.v1.ConfigProto instead.\n",
            "\n",
            "WARNING:tensorflow:From /usr/local/lib/python3.6/dist-packages/keras/backend/tensorflow_backend.py:203: The name tf.Session is deprecated. Please use tf.compat.v1.Session instead.\n",
            "\n",
            "WARNING:tensorflow:From /usr/local/lib/python3.6/dist-packages/keras/backend/tensorflow_backend.py:207: The name tf.global_variables is deprecated. Please use tf.compat.v1.global_variables instead.\n",
            "\n",
            "WARNING:tensorflow:From /usr/local/lib/python3.6/dist-packages/keras/backend/tensorflow_backend.py:216: The name tf.is_variable_initialized is deprecated. Please use tf.compat.v1.is_variable_initialized instead.\n",
            "\n",
            "WARNING:tensorflow:From /usr/local/lib/python3.6/dist-packages/keras/backend/tensorflow_backend.py:223: The name tf.variables_initializer is deprecated. Please use tf.compat.v1.variables_initializer instead.\n",
            "\n",
            "WARNING:tensorflow:From /usr/local/lib/python3.6/dist-packages/keras/backend/tensorflow_backend.py:2041: The name tf.nn.fused_batch_norm is deprecated. Please use tf.compat.v1.nn.fused_batch_norm instead.\n",
            "\n",
            "WARNING:tensorflow:From /usr/local/lib/python3.6/dist-packages/keras/backend/tensorflow_backend.py:148: The name tf.placeholder_with_default is deprecated. Please use tf.compat.v1.placeholder_with_default instead.\n",
            "\n",
            "WARNING:tensorflow:From /usr/local/lib/python3.6/dist-packages/keras/backend/tensorflow_backend.py:4267: The name tf.nn.max_pool is deprecated. Please use tf.nn.max_pool2d instead.\n",
            "\n",
            "WARNING:tensorflow:From /usr/local/lib/python3.6/dist-packages/keras/backend/tensorflow_backend.py:3733: calling dropout (from tensorflow.python.ops.nn_ops) with keep_prob is deprecated and will be removed in a future version.\n",
            "Instructions for updating:\n",
            "Please use `rate` instead of `keep_prob`. Rate should be set to `rate = 1 - keep_prob`.\n",
            "WARNING:tensorflow:From /usr/local/lib/python3.6/dist-packages/keras/optimizers.py:793: The name tf.train.Optimizer is deprecated. Please use tf.compat.v1.train.Optimizer instead.\n",
            "\n",
            "WARNING:tensorflow:From /usr/local/lib/python3.6/dist-packages/keras/backend/tensorflow_backend.py:3657: The name tf.log is deprecated. Please use tf.math.log instead.\n",
            "\n",
            "WARNING:tensorflow:From /usr/local/lib/python3.6/dist-packages/tensorflow_core/python/ops/nn_impl.py:183: where (from tensorflow.python.ops.array_ops) is deprecated and will be removed in a future version.\n",
            "Instructions for updating:\n",
            "Use tf.where in 2.0, which has the same broadcast rule as np.where\n",
            "WARNING:tensorflow:From /usr/local/lib/python3.6/dist-packages/keras/backend/tensorflow_backend.py:1033: The name tf.assign_add is deprecated. Please use tf.compat.v1.assign_add instead.\n",
            "\n",
            "WARNING:tensorflow:From /usr/local/lib/python3.6/dist-packages/keras/backend/tensorflow_backend.py:1020: The name tf.assign is deprecated. Please use tf.compat.v1.assign instead.\n",
            "\n"
          ],
          "name": "stdout"
        }
      ]
    },
    {
      "cell_type": "code",
      "metadata": {
        "id": "d8TGYPZS2BD8",
        "colab_type": "code",
        "colab": {
          "base_uri": "https://localhost:8080/",
          "height": 33
        },
        "outputId": "599a3afb-87fa-42e1-ca4e-de2b7ac73ed8"
      },
      "source": [
        "cd '/content/gdrive/My Drive/APM/Dataset/unzipped/'"
      ],
      "execution_count": 38,
      "outputs": [
        {
          "output_type": "stream",
          "text": [
            "/content/gdrive/My Drive/APM/Dataset/unzipped\n"
          ],
          "name": "stdout"
        }
      ]
    },
    {
      "cell_type": "code",
      "metadata": {
        "id": "AnBG477CdyJm",
        "colab_type": "code",
        "colab": {}
      },
      "source": [
        "def testOnActor(actor):\n",
        "  actor_dir = './'+actor+'/'\n",
        "  loss = []\n",
        "  acc = []\n",
        "  #Test\n",
        "  i = 0\n",
        "  for filename in os.listdir(actor_dir):\n",
        "    i += 1\n",
        "    #if i > 10:\n",
        "    #  break\n",
        "    path = os.path.join(actor_dir, filename)\n",
        "    file_emotion = [0]*8\n",
        "    file_emotion[int(path[17:19])-1] = 1\n",
        "\n",
        "    cap = cv2.VideoCapture(path)\n",
        "    x = []\n",
        "    y = []\n",
        "    frame_count = 0\n",
        "    while True:\n",
        "      # read the next frame from the file\n",
        "      (grabbed, frame) = cap.read()\n",
        "      frame_count += 1\n",
        "\n",
        "      # If the frame was not grabbed, then we have reached the end\n",
        "      # of the stream\n",
        "      if not grabbed:\n",
        "        #print('Done,',i,'frames captured.')\n",
        "        break\n",
        "      \n",
        "      elif frame_count % 10 == 0:\n",
        "      \n",
        "        frame=cv2.resize(frame, (256,256))\n",
        "        frame = cv2.cvtColor(frame, cv2.COLOR_BGR2GRAY)\n",
        "        frame = np.reshape(frame, [frame.shape[0], frame.shape[1], 1])\n",
        "\n",
        "        x.append(frame)\n",
        "        y.append(file_emotion)\n",
        "        \n",
        "\n",
        "    x = np.array(x)\n",
        "    y = np.array(y)\n",
        "    \n",
        "    \n",
        "    #print('Testing on',filename)\n",
        "    test = model.test_on_batch(x,y)\n",
        "\n",
        "    \n",
        "\n",
        "    loss.append(test[0])\n",
        "    acc.append(test[1])\n",
        "    del x\n",
        "    del y\n",
        "    \n",
        "\n",
        "  return loss,acc\n",
        "\n",
        "\n"
      ],
      "execution_count": 0,
      "outputs": []
    },
    {
      "cell_type": "code",
      "metadata": {
        "id": "ZnMtJnvZd4WD",
        "colab_type": "code",
        "colab": {
          "base_uri": "https://localhost:8080/",
          "height": 66
        },
        "outputId": "1ab49aa2-564d-40ad-9d89-55b78131975c"
      },
      "source": [
        "loss23,acc23 = testOnActor('Actor_23')\n",
        "print('Actor 23:')\n",
        "print('Average Loss =',np.array(loss23).mean())\n",
        "print('Average Accuracy =',np.array(acc23).mean())"
      ],
      "execution_count": 13,
      "outputs": [
        {
          "output_type": "stream",
          "text": [
            "Actor 23:\n",
            "Average Loss = 6.4153695\n",
            "Average Accuracy = 0.6\n"
          ],
          "name": "stdout"
        }
      ]
    },
    {
      "cell_type": "code",
      "metadata": {
        "id": "ukYASCK6d4O6",
        "colab_type": "code",
        "colab": {
          "base_uri": "https://localhost:8080/",
          "height": 66
        },
        "outputId": "d238a8fa-dffc-40f5-ca2d-a9c8d32a32ca"
      },
      "source": [
        "loss24,acc24 = testOnActor('Actor_24')\n",
        "print('Actor 24:')\n",
        "print('Average Loss =',np.array(loss24).mean())\n",
        "print('Average Accuracy =',np.array(acc24).mean())\n"
      ],
      "execution_count": 14,
      "outputs": [
        {
          "output_type": "stream",
          "text": [
            "Actor 24:\n",
            "Average Loss = 6.4153695\n",
            "Average Accuracy = 0.6\n"
          ],
          "name": "stdout"
        }
      ]
    }
  ]
}
